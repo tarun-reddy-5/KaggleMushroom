{
 "cells": [
  {
   "cell_type": "code",
   "execution_count": 4,
   "id": "6698dfef-3002-4678-9f2d-3f05149ddb62",
   "metadata": {},
   "outputs": [
    {
     "name": "stdout",
     "output_type": "stream",
     "text": [
      "Collecting xgboost\n",
      "  Obtaining dependency information for xgboost from https://files.pythonhosted.org/packages/99/a1/5219921a9bcb5388623f81908ff43d606aec2e512e0c02f6eb49f3b3caa8/xgboost-2.1.1-py3-none-macosx_12_0_arm64.whl.metadata\n",
      "  Downloading xgboost-2.1.1-py3-none-macosx_12_0_arm64.whl.metadata (2.1 kB)\n",
      "Requirement already satisfied: numpy in ./anaconda3/lib/python3.11/site-packages (from xgboost) (1.24.3)\n",
      "Requirement already satisfied: scipy in ./anaconda3/lib/python3.11/site-packages (from xgboost) (1.11.1)\n",
      "Downloading xgboost-2.1.1-py3-none-macosx_12_0_arm64.whl (1.9 MB)\n",
      "\u001b[2K   \u001b[90m━━━━━━━━━━━━━━━━━━━━━━━━━━━━━━━━━━━━━━━━\u001b[0m \u001b[32m1.9/1.9 MB\u001b[0m \u001b[31m1.3 MB/s\u001b[0m eta \u001b[36m0:00:00\u001b[0m00:01\u001b[0m00:01\u001b[0m\n",
      "\u001b[?25hInstalling collected packages: xgboost\n",
      "Successfully installed xgboost-2.1.1\n",
      "Note: you may need to restart the kernel to use updated packages.\n"
     ]
    }
   ],
   "source": [
    "pip install xgboost"
   ]
  },
  {
   "cell_type": "code",
   "execution_count": 16,
   "id": "7c82b889-d430-4b9a-9d1a-f1ec86665198",
   "metadata": {},
   "outputs": [],
   "source": [
    "import xgboost as xgb\n",
    "import pandas as pd\n",
    "import numpy as np\n",
    "from sklearn.model_selection import train_test_split\n",
    "from sklearn.metrics import accuracy_score\n",
    "from sklearn.model_selection import GridSearchCV"
   ]
  },
  {
   "cell_type": "code",
   "execution_count": 8,
   "id": "aa298fd1-84cb-4050-b2b3-304a5cd01e6e",
   "metadata": {},
   "outputs": [
    {
     "data": {
      "text/plain": [
       "(3111859, 118)"
      ]
     },
     "execution_count": 8,
     "metadata": {},
     "output_type": "execute_result"
    }
   ],
   "source": [
    "# Load the CSV file into a DataFrame\n",
    "df = pd.read_csv('/Users/tarunreddy/Desktop/Projects/Mushroom_Kaggle/clean_mush.csv')\n",
    "df.shape"
   ]
  },
  {
   "cell_type": "code",
   "execution_count": 10,
   "id": "e75a20bf-862b-4fe2-842d-f743325c6033",
   "metadata": {},
   "outputs": [
    {
     "name": "stdout",
     "output_type": "stream",
     "text": [
      "Features shape: (3111859, 117)\n",
      "Target shape: (3111859,)\n"
     ]
    }
   ],
   "source": [
    "# Split the data\n",
    "X = df.iloc[:, 1:]  # Features (columns 2 to 118)\n",
    "y = df.iloc[:, 0]   # Target (first column)\n",
    "\n",
    "# Check the shapes to confirm the split\n",
    "print(\"Features shape:\", X.shape)\n",
    "print(\"Target shape:\", y.shape)"
   ]
  },
  {
   "cell_type": "code",
   "execution_count": 12,
   "id": "198bd7a0-9075-4bb6-ab1f-140728f8e709",
   "metadata": {},
   "outputs": [
    {
     "name": "stdout",
     "output_type": "stream",
     "text": [
      "Training Features shape: (2489487, 117)\n",
      "Validation Features shape: (622372, 117)\n",
      "Training Target shape: (2489487,)\n",
      "Validation Target shape: (622372,)\n"
     ]
    }
   ],
   "source": [
    "X_train, X_val, y_train, y_val = train_test_split(X, y, test_size=0.2, random_state=42, stratify=y)\n",
    "\n",
    "# Check the shapes of the splits\n",
    "print(\"Training Features shape:\", X_train.shape)\n",
    "print(\"Validation Features shape:\", X_val.shape)\n",
    "print(\"Training Target shape:\", y_train.shape)\n",
    "print(\"Validation Target shape:\", y_val.shape)"
   ]
  },
  {
   "cell_type": "code",
   "execution_count": 20,
   "id": "e757c49e-d006-49b5-be2d-62d85f28af8c",
   "metadata": {},
   "outputs": [],
   "source": [
    "param_grid = {\n",
    "    'max_depth': [3, 5, 7, 9, 11],\n",
    "    'eta': [0.3],\n",
    "    'objective': ['binary:logistic'],\n",
    "    'eval_metric': ['logloss'],\n",
    "    'seed': [42]\n",
    "}"
   ]
  },
  {
   "cell_type": "code",
   "execution_count": 22,
   "id": "4431a3f1-ed07-4c9d-8052-e83af0cc2b36",
   "metadata": {},
   "outputs": [],
   "source": [
    "xgb_model = xgb.XGBClassifier(n_estimators=100, use_label_encoder=False)\n",
    "grid_search = GridSearchCV(estimator=xgb_model, param_grid=param_grid, cv=3, scoring='accuracy', verbose=1)"
   ]
  },
  {
   "cell_type": "code",
   "execution_count": 24,
   "id": "f07c99bf-6f0a-45a0-9154-5ebd70077887",
   "metadata": {},
   "outputs": [
    {
     "name": "stdout",
     "output_type": "stream",
     "text": [
      "Fitting 3 folds for each of 5 candidates, totalling 15 fits\n"
     ]
    },
    {
     "name": "stderr",
     "output_type": "stream",
     "text": [
      "/Users/tarunreddy/anaconda3/lib/python3.11/site-packages/xgboost/core.py:158: UserWarning: [18:04:51] WARNING: /Users/runner/work/xgboost/xgboost/src/learner.cc:740: \n",
      "Parameters: { \"use_label_encoder\" } are not used.\n",
      "\n",
      "  warnings.warn(smsg, UserWarning)\n",
      "/Users/tarunreddy/anaconda3/lib/python3.11/site-packages/xgboost/core.py:158: UserWarning: [18:05:07] WARNING: /Users/runner/work/xgboost/xgboost/src/learner.cc:740: \n",
      "Parameters: { \"use_label_encoder\" } are not used.\n",
      "\n",
      "  warnings.warn(smsg, UserWarning)\n",
      "/Users/tarunreddy/anaconda3/lib/python3.11/site-packages/xgboost/core.py:158: UserWarning: [18:05:23] WARNING: /Users/runner/work/xgboost/xgboost/src/learner.cc:740: \n",
      "Parameters: { \"use_label_encoder\" } are not used.\n",
      "\n",
      "  warnings.warn(smsg, UserWarning)\n",
      "/Users/tarunreddy/anaconda3/lib/python3.11/site-packages/xgboost/core.py:158: UserWarning: [18:05:38] WARNING: /Users/runner/work/xgboost/xgboost/src/learner.cc:740: \n",
      "Parameters: { \"use_label_encoder\" } are not used.\n",
      "\n",
      "  warnings.warn(smsg, UserWarning)\n",
      "/Users/tarunreddy/anaconda3/lib/python3.11/site-packages/xgboost/core.py:158: UserWarning: [18:05:58] WARNING: /Users/runner/work/xgboost/xgboost/src/learner.cc:740: \n",
      "Parameters: { \"use_label_encoder\" } are not used.\n",
      "\n",
      "  warnings.warn(smsg, UserWarning)\n",
      "/Users/tarunreddy/anaconda3/lib/python3.11/site-packages/xgboost/core.py:158: UserWarning: [18:06:18] WARNING: /Users/runner/work/xgboost/xgboost/src/learner.cc:740: \n",
      "Parameters: { \"use_label_encoder\" } are not used.\n",
      "\n",
      "  warnings.warn(smsg, UserWarning)\n",
      "/Users/tarunreddy/anaconda3/lib/python3.11/site-packages/xgboost/core.py:158: UserWarning: [18:06:37] WARNING: /Users/runner/work/xgboost/xgboost/src/learner.cc:740: \n",
      "Parameters: { \"use_label_encoder\" } are not used.\n",
      "\n",
      "  warnings.warn(smsg, UserWarning)\n",
      "/Users/tarunreddy/anaconda3/lib/python3.11/site-packages/xgboost/core.py:158: UserWarning: [18:07:00] WARNING: /Users/runner/work/xgboost/xgboost/src/learner.cc:740: \n",
      "Parameters: { \"use_label_encoder\" } are not used.\n",
      "\n",
      "  warnings.warn(smsg, UserWarning)\n",
      "/Users/tarunreddy/anaconda3/lib/python3.11/site-packages/xgboost/core.py:158: UserWarning: [18:07:22] WARNING: /Users/runner/work/xgboost/xgboost/src/learner.cc:740: \n",
      "Parameters: { \"use_label_encoder\" } are not used.\n",
      "\n",
      "  warnings.warn(smsg, UserWarning)\n",
      "/Users/tarunreddy/anaconda3/lib/python3.11/site-packages/xgboost/core.py:158: UserWarning: [18:07:44] WARNING: /Users/runner/work/xgboost/xgboost/src/learner.cc:740: \n",
      "Parameters: { \"use_label_encoder\" } are not used.\n",
      "\n",
      "  warnings.warn(smsg, UserWarning)\n",
      "/Users/tarunreddy/anaconda3/lib/python3.11/site-packages/xgboost/core.py:158: UserWarning: [18:08:09] WARNING: /Users/runner/work/xgboost/xgboost/src/learner.cc:740: \n",
      "Parameters: { \"use_label_encoder\" } are not used.\n",
      "\n",
      "  warnings.warn(smsg, UserWarning)\n",
      "/Users/tarunreddy/anaconda3/lib/python3.11/site-packages/xgboost/core.py:158: UserWarning: [18:08:33] WARNING: /Users/runner/work/xgboost/xgboost/src/learner.cc:740: \n",
      "Parameters: { \"use_label_encoder\" } are not used.\n",
      "\n",
      "  warnings.warn(smsg, UserWarning)\n",
      "/Users/tarunreddy/anaconda3/lib/python3.11/site-packages/xgboost/core.py:158: UserWarning: [18:08:57] WARNING: /Users/runner/work/xgboost/xgboost/src/learner.cc:740: \n",
      "Parameters: { \"use_label_encoder\" } are not used.\n",
      "\n",
      "  warnings.warn(smsg, UserWarning)\n",
      "/Users/tarunreddy/anaconda3/lib/python3.11/site-packages/xgboost/core.py:158: UserWarning: [18:09:23] WARNING: /Users/runner/work/xgboost/xgboost/src/learner.cc:740: \n",
      "Parameters: { \"use_label_encoder\" } are not used.\n",
      "\n",
      "  warnings.warn(smsg, UserWarning)\n",
      "/Users/tarunreddy/anaconda3/lib/python3.11/site-packages/xgboost/core.py:158: UserWarning: [18:09:50] WARNING: /Users/runner/work/xgboost/xgboost/src/learner.cc:740: \n",
      "Parameters: { \"use_label_encoder\" } are not used.\n",
      "\n",
      "  warnings.warn(smsg, UserWarning)\n",
      "/Users/tarunreddy/anaconda3/lib/python3.11/site-packages/xgboost/core.py:158: UserWarning: [18:10:18] WARNING: /Users/runner/work/xgboost/xgboost/src/learner.cc:740: \n",
      "Parameters: { \"use_label_encoder\" } are not used.\n",
      "\n",
      "  warnings.warn(smsg, UserWarning)\n"
     ]
    },
    {
     "name": "stdout",
     "output_type": "stream",
     "text": [
      "Best max_depth: 11\n",
      "Best score: 0.9919409099143719\n"
     ]
    }
   ],
   "source": [
    "# Fit the model with the grid search\n",
    "grid_search.fit(X_train, y_train)\n",
    "\n",
    "# Print the best parameters and score\n",
    "print(f\"Best max_depth: {grid_search.best_params_['max_depth']}\")\n",
    "print(f\"Best score: {grid_search.best_score_}\")"
   ]
  },
  {
   "cell_type": "code",
   "execution_count": 26,
   "id": "4cf5f3c1-b801-4463-93f1-7f21bff859a9",
   "metadata": {},
   "outputs": [
    {
     "name": "stdout",
     "output_type": "stream",
     "text": [
      "Accuracy on the test set: 99.21%\n"
     ]
    }
   ],
   "source": [
    "# Get the best model\n",
    "best_model = grid_search.best_estimator_\n",
    "\n",
    "# Predict on the test set\n",
    "y_pred = best_model.predict(X_val)\n",
    "\n",
    "# Calculate accuracy on the test set\n",
    "accuracy = accuracy_score(y_val, y_pred)\n",
    "print(f\"Accuracy on the test set: {accuracy * 100:.2f}%\")\n"
   ]
  },
  {
   "cell_type": "markdown",
   "id": "af9f6bce-d5dd-4a9c-9386-ca56215cdbeb",
   "metadata": {},
   "source": [
    "## Testing"
   ]
  },
  {
   "cell_type": "code",
   "execution_count": 29,
   "id": "52b5846a-5a5b-4803-9d3a-8b99308ab3cb",
   "metadata": {},
   "outputs": [
    {
     "data": {
      "text/plain": [
       "(2077964, 118)"
      ]
     },
     "execution_count": 29,
     "metadata": {},
     "output_type": "execute_result"
    }
   ],
   "source": [
    "# Load the CSV file into a DataFrame\n",
    "df_test = pd.read_csv('/Users/tarunreddy/Desktop/Projects/Mushroom_Kaggle/clean_mush_test.csv')\n",
    "df_test.shape"
   ]
  },
  {
   "cell_type": "code",
   "execution_count": 31,
   "id": "e088511a-82af-4512-a422-47893e5ab957",
   "metadata": {},
   "outputs": [
    {
     "name": "stdout",
     "output_type": "stream",
     "text": [
      "Features shape: (2077964, 117)\n",
      "Target shape: (2077964,)\n"
     ]
    }
   ],
   "source": [
    "X_test = df_test.iloc[:, 1:]  # Features (columns 2 to 118)\n",
    "id = df_test.iloc[:, 0]   # Target (first column)\n",
    "\n",
    "# Check the shapes to confirm the split\n",
    "print(\"Features shape:\", X_test.shape)\n",
    "print(\"Target shape:\", id.shape)"
   ]
  },
  {
   "cell_type": "code",
   "execution_count": 33,
   "id": "400ebcff-4b28-4070-a2cb-faaf72cf6e73",
   "metadata": {},
   "outputs": [
    {
     "name": "stdout",
     "output_type": "stream",
     "text": [
      "Both DataFrames have the same columns in the same order and the same datatypes.\n"
     ]
    }
   ],
   "source": [
    "# Check if column names and their order are the same\n",
    "columns_are_equal = (X.columns.tolist() == X_test.columns.tolist())\n",
    "\n",
    "# Check if datatypes are the same\n",
    "dtypes_are_equal = (X.dtypes.tolist() == X_test.dtypes.tolist())\n",
    "\n",
    "if columns_are_equal and dtypes_are_equal:\n",
    "    print(\"Both DataFrames have the same columns in the same order and the same datatypes.\")\n",
    "else:\n",
    "    if not columns_are_equal:\n",
    "        print(\"The DataFrames do not have the same columns in the same order.\")\n",
    "    if not dtypes_are_equal:\n",
    "        print(\"The DataFrames do not have the same datatypes.\")\n"
   ]
  },
  {
   "cell_type": "code",
   "execution_count": 35,
   "id": "5694e60e-d482-4e6c-b341-094cbfef2c4b",
   "metadata": {},
   "outputs": [],
   "source": [
    "# Make predictions\n",
    "predictions = best_model.predict(X_test)"
   ]
  },
  {
   "cell_type": "code",
   "execution_count": 87,
   "id": "ca839598-7226-4ad1-86ed-b2823e070994",
   "metadata": {},
   "outputs": [
    {
     "name": "stdout",
     "output_type": "stream",
     "text": [
      "CSV file with predictions created successfully.\n"
     ]
    }
   ],
   "source": [
    "# Convert predictions to class labels ('p' or 'e')\n",
    "class_labels = ['p' if pred == 1 else 'e' for pred in predictions]\n",
    "# Create a new DataFrame with the id and class labels\n",
    "results_df = pd.DataFrame({\n",
    "    'id': id,\n",
    "    'class': class_labels\n",
    "})\n",
    "\n",
    "# Save the DataFrame to a CSV file\n",
    "results_df.to_csv('predictions_XG.csv', index=False)\n",
    "\n",
    "print(\"CSV file with predictions created successfully.\")"
   ]
  },
  {
   "cell_type": "code",
   "execution_count": 89,
   "id": "cdd3d13d-dc25-42b3-8882-9eea1d6c77e0",
   "metadata": {},
   "outputs": [
    {
     "name": "stdout",
     "output_type": "stream",
     "text": [
      "Unique values and counts:\n",
      "class\n",
      "p    1133533\n",
      "e     944431\n",
      "Name: count, dtype: int64\n"
     ]
    }
   ],
   "source": [
    "# Get unique values and their counts\n",
    "value_counts = results_df['class'].value_counts()\n",
    "\n",
    "print(\"Unique values and counts:\")\n",
    "print(value_counts)"
   ]
  },
  {
   "cell_type": "code",
   "execution_count": 91,
   "id": "0d871ade-9416-45b7-a4f7-3a89e65519a6",
   "metadata": {},
   "outputs": [
    {
     "name": "stderr",
     "output_type": "stream",
     "text": [
      "/Users/tarunreddy/anaconda3/lib/python3.11/site-packages/xgboost/core.py:158: UserWarning: [19:02:25] WARNING: /Users/runner/work/xgboost/xgboost/src/c_api/c_api.cc:1374: Saving model in the UBJSON format as default.  You can use file extension: `json`, `ubj` or `deprecated` to choose between formats.\n",
      "  warnings.warn(smsg, UserWarning)\n"
     ]
    }
   ],
   "source": [
    "best_model.save_model('best_xg_model.xgb')"
   ]
  },
  {
   "cell_type": "code",
   "execution_count": null,
   "id": "5c4eb37b-c4db-43f4-84f6-88e13bec6658",
   "metadata": {},
   "outputs": [],
   "source": []
  }
 ],
 "metadata": {
  "kernelspec": {
   "display_name": "Python 3 (ipykernel)",
   "language": "python",
   "name": "python3"
  },
  "language_info": {
   "codemirror_mode": {
    "name": "ipython",
    "version": 3
   },
   "file_extension": ".py",
   "mimetype": "text/x-python",
   "name": "python",
   "nbconvert_exporter": "python",
   "pygments_lexer": "ipython3",
   "version": "3.11.5"
  }
 },
 "nbformat": 4,
 "nbformat_minor": 5
}
